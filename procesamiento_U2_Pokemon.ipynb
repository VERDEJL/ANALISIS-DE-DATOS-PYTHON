{
 "cells": [
  {
   "cell_type": "markdown",
   "id": "e3fa3f41",
   "metadata": {},
   "source": [
    "# PROCESAMIENTO POKEMON\n",
    "JOSE LUIS VERDE SANCHEZ 19130002\n"
   ]
  },
  {
   "cell_type": "code",
   "execution_count": 1,
   "id": "16b4fa8e",
   "metadata": {},
   "outputs": [],
   "source": [
    "#Importamos las librerias a usar\n",
    "import pandas as pd\n",
    "import numpy as np\n",
    "import matplotlib.pyplot as plt"
   ]
  },
  {
   "cell_type": "code",
   "execution_count": 2,
   "id": "3151d991",
   "metadata": {},
   "outputs": [],
   "source": [
    "#Abrimos el csv.\n",
    "ruta = \"C:\\\\Users\\\\verde\\\\Documents\\\\AGO2022\\\\BIGDATA\\\\pokemon2020\\\\\"\n",
    "df = pd.read_csv(ruta+\"pokedex_Ver9.csv\")"
   ]
  },
  {
   "cell_type": "code",
   "execution_count": 3,
   "id": "8fe1e08e",
   "metadata": {},
   "outputs": [
    {
     "name": "stdout",
     "output_type": "stream",
     "text": [
      "   No Original_Name               Name  Generation Height   Weight  Type1  \\\n",
      "0   1     Bulbasaur          Bulbasaur           1   0.7m    6.9kg  Grass   \n",
      "1   2       Ivysaur            Ivysaur           1   1.0m   13.0kg  Grass   \n",
      "2   3      Venusaur           Venusaur           1   2.0m  100.0kg  Grass   \n",
      "3   3      Venusaur  Venusaur(Mega EV)           1   2.4m  155.5kg  Grass   \n",
      "4   4    Charmander         Charmander           1   0.6m    8.5kg   Fire   \n",
      "\n",
      "    Type2   Ability1 Ability2  ... SP_Attack SP_Defense  Speed  Total  Ef_HP  \\\n",
      "0  Poison   Overgrow      NaN  ...        65         65     45    318      0   \n",
      "1  Poison   Overgrow      NaN  ...        80         80     60    405      0   \n",
      "2  Poison   Overgrow      NaN  ...       100        100     80    525      0   \n",
      "3  Poison  Thick Fat      NaN  ...       122        120     80    625      0   \n",
      "4     NaN      Blaze      NaN  ...        60         50     65    309      0   \n",
      "\n",
      "   Ef_Attack Ef_Defense Ef_SP_Attack  Ef_SP_Defense  Ef_Speed  \n",
      "0          0          0            1              0         0  \n",
      "1          0          0            1              1         0  \n",
      "2          0          0            2              1         0  \n",
      "3          0          0            2              1         0  \n",
      "4          0          0            0              0         1  \n",
      "\n",
      "[5 rows x 37 columns]\n"
     ]
    }
   ],
   "source": [
    "#Imprimimos los primeros 5 datos para verificar \n",
    "#que se abrio el archivo correctamente\n",
    "print(df.head(5))"
   ]
  },
  {
   "cell_type": "code",
   "execution_count": 4,
   "id": "7ded3759",
   "metadata": {},
   "outputs": [
    {
     "name": "stdout",
     "output_type": "stream",
     "text": [
      "<class 'pandas.core.frame.DataFrame'>\n",
      "RangeIndex: 1087 entries, 0 to 1086\n",
      "Data columns (total 37 columns):\n",
      " #   Column                Non-Null Count  Dtype  \n",
      "---  ------                --------------  -----  \n",
      " 0   No                    1087 non-null   int64  \n",
      " 1   Original_Name         1087 non-null   object \n",
      " 2   Name                  1087 non-null   object \n",
      " 3   Generation            1087 non-null   int64  \n",
      " 4   Height                1087 non-null   object \n",
      " 5   Weight                1087 non-null   object \n",
      " 6   Type1                 1087 non-null   object \n",
      " 7   Type2                 586 non-null    object \n",
      " 8   Ability1              1087 non-null   object \n",
      " 9   Ability2              541 non-null    object \n",
      " 10  Ability_Hidden        847 non-null    object \n",
      " 11  Color                 1087 non-null   object \n",
      " 12  Gender_Male           1087 non-null   float64\n",
      " 13  Gender_Female         1087 non-null   float64\n",
      " 14  Gender_Unknown        1087 non-null   int64  \n",
      " 15  Egg_Steps             1087 non-null   int64  \n",
      " 16  Egg_Group1            1087 non-null   object \n",
      " 17  Egg_Group2            296 non-null    object \n",
      " 18  Capture_Rate          1087 non-null   int64  \n",
      " 19  Base_EXP              1087 non-null   int64  \n",
      " 20  Final_EXP             1087 non-null   int64  \n",
      " 21  Category              1087 non-null   object \n",
      " 22  Mega_Evolution _Flag  49 non-null     object \n",
      " 23  Region_Forme          38 non-null     object \n",
      " 24  HP                    1087 non-null   int64  \n",
      " 25  Attack                1087 non-null   int64  \n",
      " 26  Defense               1087 non-null   int64  \n",
      " 27  SP_Attack             1087 non-null   int64  \n",
      " 28  SP_Defense            1087 non-null   int64  \n",
      " 29  Speed                 1087 non-null   int64  \n",
      " 30  Total                 1087 non-null   int64  \n",
      " 31  Ef_HP                 1087 non-null   int64  \n",
      " 32  Ef_Attack             1087 non-null   int64  \n",
      " 33  Ef_Defense            1087 non-null   int64  \n",
      " 34  Ef_SP_Attack          1087 non-null   int64  \n",
      " 35  Ef_SP_Defense         1087 non-null   int64  \n",
      " 36  Ef_Speed              1087 non-null   int64  \n",
      "dtypes: float64(2), int64(20), object(15)\n",
      "memory usage: 314.3+ KB\n",
      "None\n"
     ]
    }
   ],
   "source": [
    "print(df.info())\n",
    "#Con este comando podemos ver toda la informacion del dataframe"
   ]
  },
  {
   "cell_type": "code",
   "execution_count": 5,
   "id": "02cb7035",
   "metadata": {},
   "outputs": [
    {
     "name": "stdout",
     "output_type": "stream",
     "text": [
      "Water\n"
     ]
    }
   ],
   "source": [
    "#Con .mode podemos ver cual es el valor mas comun o mas usado en cierta fila,\n",
    "#en este caso el type mas comun seria water/agua\n",
    "m = df[\"Type1\"].mode()[0]\n",
    "print(m)"
   ]
  },
  {
   "cell_type": "code",
   "execution_count": 6,
   "id": "ccc52857",
   "metadata": {},
   "outputs": [
    {
     "data": {
      "text/plain": [
       "Water       136\n",
       "Normal      120\n",
       "Bug         102\n",
       "Grass        92\n",
       "Psychic      79\n",
       "Rock         65\n",
       "Fire         65\n",
       "Electric     61\n",
       "Dark         46\n",
       "Ghost        42\n",
       "Fighting     42\n",
       "Poison       41\n",
       "Ground       41\n",
       "Dragon       41\n",
       "Ice          39\n",
       "Steel        37\n",
       "Fairy        30\n",
       "Flying        8\n",
       "Name: Type1, dtype: int64"
      ]
     },
     "execution_count": 6,
     "metadata": {},
     "output_type": "execute_result"
    }
   ],
   "source": [
    "df['Type1'].value_counts()\n",
    "#Ahora con value_counts podemos comprobar que era cierto,\n",
    "#hay mas de tipo agua."
   ]
  },
  {
   "cell_type": "code",
   "execution_count": 35,
   "id": "1b9c6e1d",
   "metadata": {},
   "outputs": [
    {
     "name": "stdout",
     "output_type": "stream",
     "text": [
      "Type1\n",
      "Water       136\n",
      "Normal      120\n",
      "Bug         102\n",
      "Grass        92\n",
      "Psychic      79\n",
      "Fire         65\n",
      "Rock         65\n",
      "Electric     61\n",
      "Dark         46\n",
      "Fighting     42\n",
      "Ghost        42\n",
      "Ground       41\n",
      "Dragon       41\n",
      "Poison       41\n",
      "Ice          39\n",
      "Steel        37\n",
      "Fairy        30\n",
      "Flying        8\n",
      "Name: Type1, dtype: int64\n"
     ]
    }
   ],
   "source": [
    "#Ahora para poder mostrar esta informacion en tabla debemos\n",
    "#guardar los datos mostrados en variables para poder mandarselos\n",
    "#al matplotlib\n",
    "nombretype = list(df['Type1'].value_counts().index)\n",
    "valorestype = df.groupby('Type1')['Type1'].agg(len).sort_values(ascending=False)\n",
    "print(valorestype)"
   ]
  },
  {
   "cell_type": "code",
   "execution_count": 37,
   "id": "0092401a",
   "metadata": {},
   "outputs": [
    {
     "data": {
      "image/png": "[encoded data removed]",
      "text/plain": [
       "<Figure size 1300x500 with 1 Axes>"
      ]
     },
     "metadata": {},
     "output_type": "display_data"
    }
   ],
   "source": [
    "#Ahora le damos forma con subplots y le damos los valores que queremos graficar\n",
    "#Despues le di una lista de colores para representar los tipos de pokemon.\n",
    "fig,axl = plt.subplots(figsize = (13,5))\n",
    "graf = axl.bar(nombretype,valorestype,\n",
    "              color = ['lightblue','grey','green','lightgreen','purple',\n",
    "                       'brown','red','yellow','black','darkgrey',\n",
    "                       'orange','purple','brown',\n",
    "                       'blue','cyan','lightgrey','pink','cyan'])"
   ]
  },
  {
   "cell_type": "code",
   "execution_count": 9,
   "id": "aa108c2c",
   "metadata": {},
   "outputs": [
    {
     "data": {
      "text/plain": [
       "[nan, 'Mega']"
      ]
     },
     "execution_count": 9,
     "metadata": {},
     "output_type": "execute_result"
    }
   ],
   "source": [
    "#Ahora algo mas complejo para que me de puntos extra, primero tenemos que saber\n",
    "#los valores que puede tener el flag de mega evolucion\n",
    "#con la funcion unique podemos ver todos los valores diferentes que tiene\n",
    "\n",
    "df['Mega_Evolution _Flag'].unique().tolist()"
   ]
  },
  {
   "cell_type": "code",
   "execution_count": 10,
   "id": "cba4063d",
   "metadata": {},
   "outputs": [
    {
     "name": "stdout",
     "output_type": "stream",
     "text": [
      "3         Venusaur(Mega EV)\n",
      "7      Charizard(Mega EV X)\n",
      "8      Charizard(Mega EV Y)\n",
      "12       Blastoise(Mega EV)\n",
      "19        Beedrill(Mega EV)\n",
      "23         Pidgeot(Mega EV)\n",
      "83        Alakazam(Mega EV)\n",
      "105        Slowbro(Mega EV)\n",
      "124         Gengar(Mega EV)\n",
      "149     Kangaskhan(Mega EV)\n",
      "163         Pinsir(Mega EV)\n",
      "167       Gyarados(Mega EV)\n",
      "180     Aerodactyl(Mega EV)\n",
      "192       Mewtwo(Mega EV X)\n",
      "193       Mewtwo(Mega EV Y)\n",
      "225       Ampharos(Mega EV)\n",
      "254        Steelix(Mega EV)\n",
      "259         Scizor(Mega EV)\n",
      "262      Heracross(Mega EV)\n",
      "279       Houndoom(Mega EV)\n",
      "299      Tyranitar(Mega EV)\n",
      "306       Sceptile(Mega EV)\n",
      "310       Blaziken(Mega EV)\n",
      "314       Swampert(Mega EV)\n",
      "339      Gardevoir(Mega EV)\n",
      "360        Sableye(Mega EV)\n",
      "362         Mawile(Mega EV)\n",
      "366         Aggron(Mega EV)\n",
      "369       Medicham(Mega EV)\n",
      "372      Manectric(Mega EV)\n",
      "382       Sharpedo(Mega EV)\n",
      "387       Camerupt(Mega EV)\n",
      "399        Altaria(Mega EV)\n",
      "423        Banette(Mega EV)\n",
      "429          Absol(Mega EV)\n",
      "433         Glalie(Mega EV)\n",
      "445      Salamence(Mega EV)\n",
      "449      Metagross(Mega EV)\n",
      "454         Latias(Mega EV)\n",
      "456         Latios(Mega EV)\n",
      "462       Rayquaza(Mega EV)\n",
      "517        Lopunny(Mega EV)\n",
      "535       Garchomp(Mega EV)\n",
      "539        Lucario(Mega EV)\n",
      "552      Abomasnow(Mega EV)\n",
      "561        Yanmega(Mega EV)\n",
      "568        Gallade(Mega EV)\n",
      "632         Audino(Mega EV)\n",
      "871        Diancie(Mega EV)\n",
      "Name: Name, dtype: object\n",
      "<class 'pandas.core.series.Series'>\n",
      "Int64Index: 49 entries, 3 to 871\n",
      "Series name: Name\n",
      "Non-Null Count  Dtype \n",
      "--------------  ----- \n",
      "49 non-null     object\n",
      "dtypes: object(1)\n",
      "memory usage: 784.0+ bytes\n"
     ]
    }
   ],
   "source": [
    "#Como vemos solo tiene nan(nada)y 'Mega' cuando es mega, entonces \n",
    "#declaramos una variable para guardar la busqueda que cuando \n",
    "# 'Mega' en el flag se guarde el 'Name'\n",
    "megas = df[df['Mega_Evolution _Flag']=='Mega']['Name']\n",
    "print(megas)\n",
    "megas.info() #Para mostrar que son los 49 nonull que aparecian antes."
   ]
  },
  {
   "cell_type": "code",
   "execution_count": 11,
   "id": "5cccb651",
   "metadata": {},
   "outputs": [
    {
     "name": "stdout",
     "output_type": "stream",
     "text": [
      "755     Tornadus(Incarnate)\n",
      "756       Tornadus(Therian)\n",
      "863                  Noibat\n",
      "864                 Noivern\n",
      "991                Rookidee\n",
      "992             Corvisquire\n",
      "993             Corviknight\n",
      "1015              Cramorant\n",
      "Name: Name, dtype: object\n"
     ]
    }
   ],
   "source": [
    "#Este mismo comando se puede usar para las busquedas mas utiles, por ejemplo\n",
    "#Podemos buscar todos los nombres de pokemons de cierto tipo\n",
    "fly = df[df['Type1']=='Flying']['Name']\n",
    "print(fly)"
   ]
  },
  {
   "cell_type": "code",
   "execution_count": 13,
   "id": "d3d20b20",
   "metadata": {},
   "outputs": [
    {
     "name": "stdout",
     "output_type": "stream",
     "text": [
      "238                 Wooper\n",
      "239               Quagsire\n",
      "312              Marshtomp\n",
      "313               Swampert\n",
      "314      Swampert(Mega EV)\n",
      "404               Barboach\n",
      "405               Whiscash\n",
      "510    Gastrodon(East Sea)\n",
      "511    Gastrodon(West Sea)\n",
      "637              Palpitoad\n",
      "638             Seismitoad\n",
      "Name: Name, dtype: object\n"
     ]
    }
   ],
   "source": [
    "#O busquedas aun mas especificas cuando se cumpla varios parametros\n",
    "#por ejemplo de los 136 tipo agua, los cuales en type2 sean de tierra.\n",
    "aguatierra = df[(df['Type1']=='Water')&(df['Type2']=='Ground')]['Name']\n",
    "print(aguatierra)"
   ]
  },
  {
   "cell_type": "code",
   "execution_count": 14,
   "id": "26af3e99",
   "metadata": {},
   "outputs": [
    {
     "name": "stdout",
     "output_type": "stream",
     "text": [
      "79       Poliwrath\n",
      "90       Tentacool\n",
      "91      Tentacruel\n",
      "102       Slowpoke\n",
      "104        Slowbro\n",
      "           ...    \n",
      "945        Bruxish\n",
      "954      Tapu Fini\n",
      "1004       Drednaw\n",
      "1064     Dracovish\n",
      "1065     Arctovish\n",
      "Name: Name, Length: 63, dtype: object\n"
     ]
    }
   ],
   "source": [
    "#Otra funcion util es buscar todos los agua que tengan algun tipo extra\n",
    "aguatype2 = df[(df['Type1']=='Water')&(df['Type2'].notnull())]['Name']\n",
    "print(aguatype2)"
   ]
  },
  {
   "cell_type": "code",
   "execution_count": 15,
   "id": "21cfda75",
   "metadata": {},
   "outputs": [
    {
     "name": "stdout",
     "output_type": "stream",
     "text": [
      "            Name     Type2\n",
      "79     Poliwrath  Fighting\n",
      "90     Tentacool    Poison\n",
      "91    Tentacruel    Poison\n",
      "102     Slowpoke   Psychic\n",
      "104      Slowbro   Psychic\n",
      "...          ...       ...\n",
      "945      Bruxish   Psychic\n",
      "954    Tapu Fini     Fairy\n",
      "1004     Drednaw      Rock\n",
      "1064   Dracovish    Dragon\n",
      "1065   Arctovish       Ice\n",
      "\n",
      "[63 rows x 2 columns]\n"
     ]
    }
   ],
   "source": [
    "#La misma busqueda anterior se puede hacer de diferentes formas,\n",
    "#como es la de .loc que te deja acceder a grupos de valores,\n",
    "#en este caso le pedi que mostrara todos los que tienen como type principal agua\n",
    "#y tienen CUALQUIER type secundario, aparte que mostrara cual es ese type\n",
    "aguatype2 = df.loc[(df['Type1']=='Water')&(df['Type2'].notnull()),['Name',\n",
    "                                                                   'Type2']]\n",
    "print(aguatype2)"
   ]
  },
  {
   "cell_type": "code",
   "execution_count": 16,
   "id": "dd4917db",
   "metadata": {},
   "outputs": [],
   "source": [
    "#Aqui simplemente siguendo el uso del ejemplo de pokemons tipo agua\n",
    "#Para mostrarlo en una grafica voy a sacar todos los pokemon que en su primer\n",
    "#tipo son agua y en el 2do tienen cualquier cosa no nula\n",
    "aguamas = df[(df['Type1']=='Water')&(df['Type2'].notnull())]['Name'].count()\n",
    "#Luego los que solamente tienen tipo agua y en 2do tipo nada\n",
    "aguasola = df[(df['Type1']=='Water')&(df['Type2'].isnull())]['Name'].count()\n",
    "#Despues el total de type agua(ambos)\n",
    "aguatotal = df[(df['Type1']=='Water')]['Name'].count()"
   ]
  },
  {
   "cell_type": "code",
   "execution_count": 17,
   "id": "8a09a7b1",
   "metadata": {},
   "outputs": [
    {
     "data": {
      "image/png": "[encoded data removed]",
      "text/plain": [
       "<Figure size 640x480 with 1 Axes>"
      ]
     },
     "metadata": {},
     "output_type": "display_data"
    }
   ],
   "source": [
    "#Ahora para mostrarlo podemos hacer uso de dataframe \n",
    "#(lo cual no creo que sea lo mas eficiente)\n",
    "#-\n",
    "#data = pd.DataFrame({aguasola,aguamas,aguatotal},\n",
    "#                    index=('Water','Water++','Water Total'))\n",
    "#total = data.sum(axis=1)\n",
    "#-\n",
    "#Se agrego el codigo de uso con pandas para que se vea la diferencia.\n",
    "#y la opcion normal simplemente usando matplotlib\n",
    "#Se genera la lista de index (nombre de valores)\n",
    "#y la lista de numeros. En caso de querer una grafica vertical simplemente\n",
    "#se le quita el 'h' a .barh\n",
    "index=['Water','Water++','Water Total']\n",
    "datos=[aguasola,aguamas,aguatotal]\n",
    "plt.xlabel('Cantidad de Pokemons')\n",
    "plt.barh(index,datos,color=['Blue','Cyan','lightblue'])\n",
    "plt.title('Type Water')\n",
    "plt.show()\n",
    "#En esta grafica se puede observar de manera grafica la diferencia de tipos agua con tipos agua+otrotipo,\n",
    "#sumando estas dos barras nos daria la barra total de tipos agua."
   ]
  },
  {
   "cell_type": "code",
   "execution_count": 18,
   "id": "c928ce8d",
   "metadata": {},
   "outputs": [
    {
     "name": "stdout",
     "output_type": "stream",
     "text": [
      "49\n"
     ]
    }
   ],
   "source": [
    "#Otro ejemplo que se podria hacer, de los 49 Megas previamente obtenidos,\n",
    "#Cuantos megas tienen 2 tipos?\n",
    "print(megas.count())"
   ]
  },
  {
   "cell_type": "code",
   "execution_count": 19,
   "id": "5e021707",
   "metadata": {},
   "outputs": [
    {
     "name": "stdout",
     "output_type": "stream",
     "text": [
      "3         Venusaur(Mega EV)\n",
      "7      Charizard(Mega EV X)\n",
      "8      Charizard(Mega EV Y)\n",
      "19        Beedrill(Mega EV)\n",
      "23         Pidgeot(Mega EV)\n",
      "105        Slowbro(Mega EV)\n",
      "124         Gengar(Mega EV)\n",
      "163         Pinsir(Mega EV)\n",
      "167       Gyarados(Mega EV)\n",
      "180     Aerodactyl(Mega EV)\n",
      "192       Mewtwo(Mega EV X)\n",
      "225       Ampharos(Mega EV)\n",
      "254        Steelix(Mega EV)\n",
      "259         Scizor(Mega EV)\n",
      "262      Heracross(Mega EV)\n",
      "279       Houndoom(Mega EV)\n",
      "299      Tyranitar(Mega EV)\n",
      "306       Sceptile(Mega EV)\n",
      "310       Blaziken(Mega EV)\n",
      "314       Swampert(Mega EV)\n",
      "339      Gardevoir(Mega EV)\n",
      "360        Sableye(Mega EV)\n",
      "362         Mawile(Mega EV)\n",
      "369       Medicham(Mega EV)\n",
      "382       Sharpedo(Mega EV)\n",
      "387       Camerupt(Mega EV)\n",
      "399        Altaria(Mega EV)\n",
      "445      Salamence(Mega EV)\n",
      "449      Metagross(Mega EV)\n",
      "454         Latias(Mega EV)\n",
      "456         Latios(Mega EV)\n",
      "462       Rayquaza(Mega EV)\n",
      "517        Lopunny(Mega EV)\n",
      "535       Garchomp(Mega EV)\n",
      "539        Lucario(Mega EV)\n",
      "552      Abomasnow(Mega EV)\n",
      "561        Yanmega(Mega EV)\n",
      "568        Gallade(Mega EV)\n",
      "632         Audino(Mega EV)\n",
      "871        Diancie(Mega EV)\n",
      "Name: Name, dtype: object\n",
      "40\n"
     ]
    }
   ],
   "source": [
    "#Entonces lo que se tiene que hacer es la busqueda con 3 parametros, que tenga flag de mega, que type1\n",
    "#no sea nulo(se puede saltar esta busqueda o cambiar por algun elemento en especial) y que type2 no sea nulo\n",
    "megastipos = df[(df['Mega_Evolution _Flag']=='Mega')&(df['Type1'].notnull())&(df['Type2'].notnull())]['Name']\n",
    "print(megastipos)\n",
    "print(megastipos.count()) #Mostramos la cantidad de megas con 2 tipos"
   ]
  },
  {
   "cell_type": "code",
   "execution_count": 20,
   "id": "9566a025",
   "metadata": {},
   "outputs": [
    {
     "name": "stdout",
     "output_type": "stream",
     "text": [
      "65\n",
      "                     Name   HP  Speed\n",
      "6               Charizard   78    100\n",
      "7    Charizard(Mega EV X)   78    100\n",
      "8    Charizard(Mega EV Y)   78    100\n",
      "49              Ninetales   73    100\n",
      "76               Arcanine   90     95\n",
      "186               Moltres   90     90\n",
      "200            Typhlosion   78    100\n",
      "294                 Entei  115    100\n",
      "301                 Ho-Oh  106     90\n",
      "310     Blaziken(Mega EV)   80    100\n",
      "473             Infernape   76    108\n",
      "559             Magmortar   75     83\n",
      "614              Simisear   75    101\n",
      "660            Darmanitan  105     95\n",
      "776               Delphox   75    104\n",
      "785            Talonflame   78    126\n",
      "809                Pyroar   86    106\n",
      "894       Oricorio(Baile)   75     93\n",
      "985             Cinderace   80    119\n"
     ]
    }
   ],
   "source": [
    "#una busqueda mas compleja para que me ponga 10000 puntos extra\n",
    "fire=df[df['Type1']=='Fire']['Name']\n",
    "firehp = df.loc[(df['Type1']=='Fire')&(df['HP']>70)&(df['Speed']>80),['Name','HP','Speed']]\n",
    "#Y esta busqueda se puede seguir alargando, o haciendo mas especifica.\n",
    "print(fire.count()) #Mostramos el total de pokemon tipo fuego.\n",
    "print(firehp) #Mostramos la cantidad de pokemon despues de la busqueda\n",
    "#En esta lista podemos ver que pokemons de tipo fuego tienen mas de 70 vida base y 80 de velocidad."
   ]
  },
  {
   "cell_type": "code",
   "execution_count": 21,
   "id": "7a0d3e87",
   "metadata": {},
   "outputs": [
    {
     "name": "stdout",
     "output_type": "stream",
     "text": [
      "['Water', 'Normal', 'Bug', 'Grass', 'Psychic', 'Rock', 'Fire', 'Electric', 'Dark', 'Ghost', 'Fighting', 'Poison', 'Ground', 'Dragon', 'Ice', 'Steel', 'Fairy', 'Flying']\n"
     ]
    }
   ],
   "source": [
    "#Ahora para hacer una tabla con dataframe en caso de que quiera ver implementado el matplot con pandas al mismo tiempo\n",
    "#Vamos a hacer una lista de promedios de vida entre los diferentes tipos.\n",
    "#Para esto primeramente sacamos la lista de todos los types para no andar como menso escribiendo c/u\n",
    "types= list(df['Type1'].value_counts().index)\n",
    "print(types)"
   ]
  },
  {
   "cell_type": "code",
   "execution_count": 22,
   "id": "719b9832",
   "metadata": {},
   "outputs": [],
   "source": [
    "#Ahora sacamos el promedio de HP y el promedio de atk de cada tipo\n",
    "mwater = df[df['Type1']=='Water']['HP'].mean()          #agua\n",
    "mnormal = df[df['Type1']=='Normal']['HP'].mean()        #normal\n",
    "mbug = df[df['Type1']=='Bug']['HP'].mean()              #bicho\n",
    "mgrass = df[df['Type1']=='Grass']['HP'].mean()           #planta\n",
    "mpsychic = df[df['Type1']=='Psychic']['HP'].mean()        #psiquico\n",
    "mrock = df[df['Type1']=='Rock']['HP'].mean()              #roca\n",
    "mfire = df[df['Type1']=='Fire']['HP'].mean()             #fuego\n",
    "mele = df[df['Type1']=='Electric']['HP'].mean()         #electrico\n",
    "mdar = df[df['Type1']=='Dark']['HP'].mean()             #dark\n",
    "mgho = df[df['Type1']=='Ghost']['HP'].mean()              #fantasma\n",
    "mfig = df[df['Type1']=='Fighting']['HP'].mean()          #luchador\n",
    "mpoi = df[df['Type1']=='Poison']['HP'].mean()            #veneno\n",
    "mgro = df[df['Type1']=='Ground']['HP'].mean()            #tierra\n",
    "mdra = df[df['Type1']=='Dragon']['HP'].mean()             #dragon\n",
    "mice = df[df['Type1']=='Ice']['HP'].mean()                #hielo\n",
    "mste = df[df['Type1']=='Steel']['HP'].mean()             #acero\n",
    "mfai = df[df['Type1']=='Fairy']['HP'].mean()             #hada\n",
    "mfly = df[df['Type1']=='Flying']['HP'].mean()             #volador"
   ]
  },
  {
   "cell_type": "code",
   "execution_count": 23,
   "id": "6fdc0b6e",
   "metadata": {},
   "outputs": [],
   "source": [
    "#mandamos todo a un array\n",
    "promediotypes = [mwater,mnormal,mbug,mgrass,mpsychic,mrock,mfire,mele,mdar,mgho,mfig,mpoi,mgro,mdra,mice,mste,mfai,mfly]"
   ]
  },
  {
   "cell_type": "code",
   "execution_count": 24,
   "id": "2ddacfe1",
   "metadata": {},
   "outputs": [
    {
     "data": {
      "image/png": "[encoded data removed]",
      "text/plain": [
       "<Figure size 640x480 with 1 Axes>"
      ]
     },
     "metadata": {},
     "output_type": "display_data"
    }
   ],
   "source": [
    "#Una vez que tenemos cada promedio y nombre de type en listas, las hacemos dataframe, despues les damos axis y\n",
    "#mandamos a la funcion de matplot para generar la tabla\n",
    "promedio = pd.DataFrame(promediotypes,index=types)\n",
    "total = promedio.sum(axis=1)\n",
    "plt.barh(total.index, total, color='maroon')\n",
    "plt.title('Vida promedio por tipo')\n",
    "plt.xlabel('Vida promedio')\n",
    "plt.show()"
   ]
  },
  {
   "cell_type": "code",
   "execution_count": 55,
   "id": "3676db2d",
   "metadata": {
    "scrolled": false
   },
   "outputs": [
    {
     "name": "stdout",
     "output_type": "stream",
     "text": [
      "212\n"
     ]
    }
   ],
   "source": [
    "#Ahora para hacer uso de mas columnas vamos a hacer pruebas con habilidades.\n",
    "#Vamos a sacar la lista de todas las habilidades unicas\n",
    "habilidades= df['Ability1'].unique().tolist()\n",
    "print(len(habilidades)) #Cantidad de habilidades unicas."
   ]
  },
  {
   "cell_type": "code",
   "execution_count": 65,
   "id": "3001bf23",
   "metadata": {},
   "outputs": [
    {
     "name": "stdout",
     "output_type": "stream",
     "text": [
      "['Blaze' 'Tough Claws' 'Drought' 'Flash Fire' 'Intimidate' 'Run Away'\n",
      " 'Cursed Body' 'Flame Body' 'Pressure' 'Magma Armor' 'Speed Boost'\n",
      " 'Oblivious' 'Sheer Force' 'White Smoke' 'Forecast' 'Gluttony' 'Hustle'\n",
      " 'Rivalry' 'Water Absorb' 'Dancer' 'Shell Armor' 'Beast Boost']\n",
      "22\n"
     ]
    }
   ],
   "source": [
    "habfire = df[(df['Type1']=='Fire')]['Ability1'].unique()\n",
    "print(habfire) #Ahora de esas 212 habilidades podemos ver cuales son de pokemones tipo fuego o aparecen en pokemon de ese tipo\n",
    "print(len(habfire))"
   ]
  },
  {
   "cell_type": "code",
   "execution_count": null,
   "id": "f643ee35",
   "metadata": {},
   "outputs": [],
   "source": []
  }
 ],
 "metadata": {
  "kernelspec": {
   "display_name": "Python 3 (ipykernel)",
   "language": "python",
   "name": "python3"
  },
  "language_info": {
   "codemirror_mode": {
    "name": "ipython",
    "version": 3
   },
   "file_extension": ".py",
   "mimetype": "text/x-python",
   "name": "python",
   "nbconvert_exporter": "python",
   "pygments_lexer": "ipython3",
   "version": "3.9.13"
  }
 },
 "nbformat": 4,
 "nbformat_minor": 5
}
